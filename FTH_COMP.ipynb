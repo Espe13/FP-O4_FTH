{
 "cells": [
  {
   "cell_type": "markdown",
   "metadata": {},
   "source": [
    "# Import Libraries\n",
    "\n",
    "This needs to be executed once in the beginning when you start the kernel on which the notebook operates."
   ]
  },
  {
   "cell_type": "code",
   "execution_count": null,
   "metadata": {},
   "outputs": [],
   "source": [
    "import numpy as np\n",
    "\n",
    "#for interactive plots\n",
    "%matplotlib notebook \n",
    "#When exporting to pdf rplace the \"notebook\" with \"inline\" and replot every plot.\n",
    "#This replaces the interactive plots with regular ones that can be converted with LaTeX.\n",
    "import matplotlib.pyplot as plt\n",
    "\n",
    "from PIL import Image"
   ]
  },
  {
   "cell_type": "markdown",
   "metadata": {},
   "source": [
    "# Load the Data\n",
    "\n",
    "Please specify the **entire file path and the file name**. Every time you want to analyze a new image, you have to load it here and then execute every step."
   ]
  },
  {
   "cell_type": "code",
   "execution_count": null,
   "metadata": {},
   "outputs": [],
   "source": [
    "file = r\"Sim_3_multi_Ref.tif\" #The file has to be in the same folder as this script.\n",
    "your_folder = r'\\\\' #The folder where you want to save your data in. Make sure that the folder exists.\n",
    "prefix = '' #This string will be added in front of your saved image. Choose it according to your current simulation.\n",
    "\n",
    "image = Image.open(file)\n",
    "image = image.convert('L')# convert image to grayscale\n",
    "image = np.asarray(image.getdata(),dtype=np.float64).reshape((image.size[1],image.size[0]))/255"
   ]
  },
  {
   "cell_type": "code",
   "execution_count": null,
   "metadata": {},
   "outputs": [],
   "source": [
    "fig, ax = plt.subplots()\n",
    "ax = plt.imshow(image, cmap = 'gray')"
   ]
  },
  {
   "cell_type": "markdown",
   "metadata": {},
   "source": [
    "# Do a Fourier Transform\n",
    "\n",
    "As a first step, do a Fourier transform of the loaded image and take it's absolute squared. This is what a detector would record."
   ]
  },
  {
   "cell_type": "code",
   "execution_count": null,
   "metadata": {},
   "outputs": [],
   "source": [
    "hologram = np.abs(np.fft.fftshift(np.fft.fft2(np.fft.ifftshift(image))))**2/np.sqrt(image.size)"
   ]
  },
  {
   "cell_type": "markdown",
   "metadata": {},
   "source": [
    "## Plot the image\n",
    "\n",
    "Plot the Fourier trnsform as is and its logarithmic plot.\n",
    "\n",
    "You can adjust the scale of the image by specifying the mininal (*vmin*) and maximal (*max*) displayed value. You can do this with choosing the percentiles inthe first line but you can also type in any number you like."
   ]
  },
  {
   "cell_type": "code",
   "execution_count": null,
   "metadata": {},
   "outputs": [],
   "source": [
    "MinV, MaxV = np.percentile(hologram,(2,98))\n",
    "\n",
    "fig, axs = plt.subplots(1,2)\n",
    "\n",
    "ax1 = axs[0].imshow(hologram, cmap = 'gray', vmin = MinV, vmax = MaxV)\n",
    "fig.colorbar(ax1, ax=axs[0], fraction=0.046, pad=0.04)\n",
    "axs[0].set_title('Fourier trans. (abs squared)')\n",
    "\n",
    "ax2 = axs[1].imshow(np.log10(hologram), cmap = 'gray', vmin=-2)\n",
    "fig.colorbar(ax2, ax=axs[1], fraction=0.046, pad=0.04)\n",
    "axs[1].set_title('Fourier trans. (log abs squared)')\n",
    "\n",
    "fig.tight_layout()\n",
    "\n",
    "#save image and data\n",
    "plt.savefig(your_folder + prefix + 'holo.png')\n",
    "np.save(your_folder + prefix + 'holo', hologram) #saves as numpy array. can be opened in another notebook with np.load('filepath')"
   ]
  },
  {
   "cell_type": "markdown",
   "metadata": {},
   "source": [
    "# Reconstruct\n",
    "\n",
    "Now the artificial hologram is reconstructed. This is the only step that you will execute with the experimental data."
   ]
  },
  {
   "cell_type": "code",
   "execution_count": null,
   "metadata": {},
   "outputs": [],
   "source": [
    "recon = np.abs(np.fft.ifftshift(np.fft.ifft2(np.fft.fftshift(hologram)))) "
   ]
  },
  {
   "cell_type": "markdown",
   "metadata": {},
   "source": [
    "## Plot the image\n",
    "\n",
    "As before..."
   ]
  },
  {
   "cell_type": "code",
   "execution_count": null,
   "metadata": {},
   "outputs": [],
   "source": [
    "MinV, MaxV = np.percentile(recon,(3,97))\n",
    "\n",
    "fig, ax = plt.subplots()\n",
    "\n",
    "ax = plt.imshow(recon, cmap = 'gray', vmin = MinV, vmax = MaxV)\n",
    "plt.colorbar()\n",
    "plt.title('Reconstruction (abs)')\n",
    "\n",
    "fig.tight_layout()\n",
    "\n",
    "#save image and data\n",
    "plt.savefig(your_folder + prefix + 'recon.png')\n",
    "np.save(your_folder + prefix + 'recon', recon) #saves as numpy array. can be opened in another notebook with np.load('filepath')"
   ]
  },
  {
   "cell_type": "markdown",
   "metadata": {},
   "source": [
    "## Lineout\n",
    "\n",
    "Do reasonable intensity lineouts to determine the resolution using the 90%-10% criterion.\n",
    "\n",
    "You can determine the pixelpositions by using the cursor over your image. You can also select an area of the image to enlarge it using the butten left of the floppy disc."
   ]
  },
  {
   "cell_type": "code",
   "execution_count": null,
   "metadata": {},
   "outputs": [],
   "source": [
    "def lineout(image, startX, endX, startY, endY, file_prefix):\n",
    "    lineout = np.sum(image[startY:endY, startX:endX], 0)\n",
    "    \n",
    "    #plot the lineout\n",
    "    fig, ax = plt.subplots()\n",
    "    ax = plt.plot(lineout)\n",
    "    plt.title(\"Lineout for resultion\")\n",
    "    plt.xlabel(\"Pixel\")\n",
    "    plt.ylabel(\"Intensity [a.u.]\")\n",
    "    \n",
    "    #save the lineout\n",
    "    np.savetxt(your_folder + file_prefix + 'lineout.txt', lineout)\n",
    "    return"
   ]
  },
  {
   "cell_type": "code",
   "execution_count": null,
   "metadata": {},
   "outputs": [],
   "source": [
    "lineout(image=recon, startX = 380, endX = 490, startY = 398, endY = 399, file_prefix=prefix)"
   ]
  },
  {
   "cell_type": "markdown",
   "metadata": {},
   "source": [
    "If you want to load an existing txt-file of a lineout, you can do this here"
   ]
  },
  {
   "cell_type": "code",
   "execution_count": null,
   "metadata": {},
   "outputs": [],
   "source": [
    "line = np.fromfile(your_folder + 'Sim_3_lineout3.txt', dtype=np.float, sep='\\n')"
   ]
  },
  {
   "cell_type": "code",
   "execution_count": null,
   "metadata": {},
   "outputs": [],
   "source": [
    "fig, ax = plt.subplots()\n",
    "ax.plot(line)"
   ]
  },
  {
   "cell_type": "markdown",
   "metadata": {},
   "source": [
    "# High Pass Filter\n",
    "\n",
    "A binary mask will be multiplied to the hologram.\n",
    "\n",
    "You can set the radius (in pixels) of this mask in the first cell."
   ]
  },
  {
   "cell_type": "code",
   "execution_count": null,
   "metadata": {},
   "outputs": [],
   "source": [
    "radius = 50\n",
    "\n",
    "dim_x, dim_y = hologram.shape\n",
    "\n",
    "xx, yy = np.meshgrid(np.arange(1, hologram.shape[0]+1,1),\n",
    "                     np.arange(1, hologram.shape[1]+1,1), sparse=True)\n",
    "#create the mask by setting everything in the radius 0, else 1\n",
    "mask_HP = np.where((xx-dim_x/2)**2+(yy-dim_y/2)**2<radius**2,0,1)\n",
    "\n",
    "#muliply mask and holo\n",
    "holo_HP = mask*hologram"
   ]
  },
  {
   "cell_type": "code",
   "execution_count": null,
   "metadata": {},
   "outputs": [],
   "source": [
    "MinV, MaxV = np.percentile(holo_HP,(2,98))\n",
    "\n",
    "fig, axs = plt.subplots(1,2)\n",
    "\n",
    "ax1 = axs[0].imshow(holo_HP, cmap = 'gray', vmin = MinV, vmax = MaxV)\n",
    "fig.colorbar(ax1, ax=axs[0], fraction=0.046, pad=0.04)\n",
    "axs[0].set_title('High Pass Hologram')\n",
    "\n",
    "ax2 = axs[1].imshow(mask_HP, cmap = 'gray')\n",
    "fig.colorbar(ax2, ax=axs[1], fraction=0.046, pad=0.04)\n",
    "axs[1].set_title('High Pass Mask')\n",
    "\n",
    "fig.tight_layout()\n",
    "\n",
    "#save image and data\n",
    "plt.savefig(your_folder + 'holo_HP.png')\n",
    "np.save(your_folder + 'holo_HP', holo_HP) #saves as numpy array. can be opened in another notebook with np.load('filepath')"
   ]
  },
  {
   "cell_type": "markdown",
   "metadata": {},
   "source": [
    "## Reconstruct"
   ]
  },
  {
   "cell_type": "code",
   "execution_count": null,
   "metadata": {},
   "outputs": [],
   "source": [
    "recon_HP = np.abs(np.fft.ifftshift(np.fft.fft2(np.fft.ifftshift(holo_HP))))"
   ]
  },
  {
   "cell_type": "code",
   "execution_count": null,
   "metadata": {},
   "outputs": [],
   "source": [
    "MinV, MaxV = np.percentile(recon_HP,(3, 97))\n",
    "\n",
    "fig, ax = plt.subplots()\n",
    "\n",
    "ax = plt.imshow(recon_HP, cmap = 'gray', vmin = MinV, vmax = MaxV)\n",
    "plt.colorbar()\n",
    "plt.title('Reconstruction High Pass (abs)')\n",
    "\n",
    "fig.tight_layout()\n",
    "\n",
    "#save image and data\n",
    "plt.savefig(your_folder + 'recon_HP.png')\n",
    "np.save(your_folder + 'recon_HP', recon_HP) #saves as numpy array. can be opened in another notebook with np.load('filepath')"
   ]
  },
  {
   "cell_type": "markdown",
   "metadata": {},
   "source": [
    "## Lineout"
   ]
  },
  {
   "cell_type": "code",
   "execution_count": null,
   "metadata": {},
   "outputs": [],
   "source": [
    "lineout(image=recon_HP, startX = 170, endX = 230, startY = 508, endY = 509, file_suffix='_HP')"
   ]
  },
  {
   "cell_type": "markdown",
   "metadata": {},
   "source": [
    "# Low Pass Filter\n",
    "\n",
    "A binary mask will be multiplied to the hologram.\n",
    "\n",
    "You can set the radius (in pixels) of this mask in the first cell"
   ]
  },
  {
   "cell_type": "code",
   "execution_count": null,
   "metadata": {},
   "outputs": [],
   "source": [
    "radius = 100\n",
    "\n",
    "dim_x, dim_y = hologram.shape\n",
    "\n",
    "xx, yy = np.meshgrid(np.arange(1, hologram.shape[0]+1, 1),\n",
    "                     np.arange(1, hologram.shape[1]+1, 1), sparse=True)\n",
    "#create the mask by setting everything in the radius 1, else 0\n",
    "mask_LP = np.where((xx-dim_x/2)**2+(yy-dim_y/2)**2<radius**2, 1, 0)\n",
    "\n",
    "#muliply mask and holo\n",
    "holo_LP = mask_LP * hologram"
   ]
  },
  {
   "cell_type": "code",
   "execution_count": null,
   "metadata": {},
   "outputs": [],
   "source": [
    "MinV, MaxV = np.percentile(holo_LP,(2,98))\n",
    "\n",
    "fig, axs = plt.subplots(1,2)\n",
    "\n",
    "ax1 = axs[0].imshow(holo_LP, cmap = 'gray', vmin = MinV, vmax = MaxV)\n",
    "fig.colorbar(ax1, ax=axs[0], fraction=0.046, pad=0.04)\n",
    "axs[0].set_title('Low Pass Hologram')\n",
    "\n",
    "ax2 = axs[1].imshow(mask_LP, cmap = 'gray')\n",
    "fig.colorbar(ax2, ax=axs[1], fraction=0.046, pad=0.04)\n",
    "axs[1].set_title('Low Pass Mask')\n",
    "\n",
    "fig.tight_layout()\n",
    "\n",
    "#save image and data\n",
    "plt.savefig(your_folder + 'holo_HP.png')\n",
    "np.save(your_folder + 'holo_HP', holo_LP) #saves as numpy array. can be opened in another notebook with np.load('filepath')"
   ]
  },
  {
   "cell_type": "markdown",
   "metadata": {},
   "source": [
    "## Reconstruct"
   ]
  },
  {
   "cell_type": "code",
   "execution_count": null,
   "metadata": {},
   "outputs": [],
   "source": [
    "recon_LP = np.abs(np.fft.ifftshift(np.fft.ifft2(np.fft.fftshift(holo_LP))))"
   ]
  },
  {
   "cell_type": "code",
   "execution_count": null,
   "metadata": {},
   "outputs": [],
   "source": [
    "MinV, MaxV = np.percentile(recon_LP,(2.5, 97.5))\n",
    "\n",
    "fig, ax = plt.subplots()\n",
    "\n",
    "ax = plt.imshow(recon_LP, cmap = 'gray', vmin = MinV, vmax = MaxV)\n",
    "plt.colorbar()\n",
    "plt.title('Reconstruction Low Pass (abs)')\n",
    "\n",
    "fig.tight_layout()\n",
    "\n",
    "#save image and data\n",
    "plt.savefig(your_folder + 'recon_LP.png')\n",
    "np.save(your_folder + 'recon_LP', recon_LP) #saves as numpy array. can be opened in another notebook with np.load('filepath')"
   ]
  },
  {
   "cell_type": "markdown",
   "metadata": {},
   "source": [
    "## Lineout"
   ]
  },
  {
   "cell_type": "code",
   "execution_count": null,
   "metadata": {},
   "outputs": [],
   "source": [
    "lineout(image=recon_LP, startX = 170, endX = 230, startY = 508, endY = 509, file_suffix='_LP')"
   ]
  },
  {
   "cell_type": "code",
   "execution_count": null,
   "metadata": {},
   "outputs": [],
   "source": []
  },
  {
   "cell_type": "code",
   "execution_count": null,
   "metadata": {},
   "outputs": [],
   "source": []
  }
 ],
 "metadata": {
  "kernelspec": {
   "display_name": "Python 3",
   "language": "python",
   "name": "python3"
  },
  "language_info": {
   "codemirror_mode": {
    "name": "ipython",
    "version": 3
   },
   "file_extension": ".py",
   "mimetype": "text/x-python",
   "name": "python",
   "nbconvert_exporter": "python",
   "pygments_lexer": "ipython3",
   "version": "3.8.3"
  },
  "toc": {
   "base_numbering": 1,
   "nav_menu": {
    "height": "264px",
    "width": "267px"
   },
   "number_sections": true,
   "sideBar": true,
   "skip_h1_title": false,
   "title_cell": "Table of Contents",
   "title_sidebar": "Contents",
   "toc_cell": false,
   "toc_position": {
    "height": "calc(100% - 180px)",
    "left": "10px",
    "top": "150px",
    "width": "272px"
   },
   "toc_section_display": true,
   "toc_window_display": true
  },
  "varInspector": {
   "cols": {
    "lenName": 16,
    "lenType": 16,
    "lenVar": 40
   },
   "kernels_config": {
    "python": {
     "delete_cmd_postfix": "",
     "delete_cmd_prefix": "del ",
     "library": "var_list.py",
     "varRefreshCmd": "print(var_dic_list())"
    },
    "r": {
     "delete_cmd_postfix": ") ",
     "delete_cmd_prefix": "rm(",
     "library": "var_list.r",
     "varRefreshCmd": "cat(var_dic_list()) "
    }
   },
   "oldHeight": 122,
   "position": {
    "height": "779px",
    "left": "1471px",
    "right": "28px",
    "top": "110px",
    "width": "421px"
   },
   "types_to_exclude": [
    "module",
    "function",
    "builtin_function_or_method",
    "instance",
    "_Feature"
   ],
   "varInspector_section_display": "block",
   "window_display": true
  }
 },
 "nbformat": 4,
 "nbformat_minor": 4
}

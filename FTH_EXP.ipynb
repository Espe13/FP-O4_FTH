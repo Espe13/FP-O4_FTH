{
 "cells": [
  {
   "cell_type": "markdown",
   "metadata": {},
   "source": [
    "![](Bilder/MBILogo.png)\n",
    "\n",
    "# FP O4: Fourier-Transform Holography\n",
    "## _Experimental part_\n",
    "\n",
    "This notebook is used for data analysis of the experimental part of the Fourier-transform holography experiment. The results should be exported from the notebook and used in the final report. However, we demand to generate a pdf from this notebook and hand it in as appendix to the experimental report. Use these text boxes and [Markdown formatting](https://de.wikipedia.org/wiki/Markdown) to produce your text. If you prefer, you can change the language of this document to German.\n",
    "\n",
    "## Important: File saving\n",
    "\n",
    "If you reopen the script at home with binder, remember that binder uses a local copy of all data. Once the binder session is terminated or receives a time out, all local data will be _irrevocably lost._ To save your data, open a terminal in the main jupyter window (`new` → `terminal`) and run `./git.sh`using the credientials provided."
   ]
  },
  {
   "cell_type": "markdown",
   "metadata": {},
   "source": [
    "## Import Libraries\n",
    "\n",
    "This has do be executed once in the beginning. The libaries loaded include functions for numerical operations, scientific plotting and image manipulation."
   ]
  },
  {
   "cell_type": "code",
   "execution_count": null,
   "metadata": {},
   "outputs": [],
   "source": [
    "# NumPy – The fundamental package for scientific computing with Python\n",
    "# https://numpy.org/\n",
    "import numpy as np\n",
    "\n",
    "# Matplotlib – Visualization with Python\n",
    "# https://matplotlib.org/\n",
    "#for interactive plots\n",
    "%matplotlib inline \n",
    "#When exporting to pdf rplace the \"notebook\" with \"inline\" and replot every plot.\n",
    "#This replaces the interactive plots with regular ones that can be converted with LaTeX.\n",
    "import matplotlib.pyplot as plt\n",
    "\n",
    "# Python Imaging Library (PIL)\n",
    "# consider using the fork pillow\n",
    "# https://pillow.readthedocs.io/en/stable/index.html\n",
    "from PIL import Image\n",
    "\n",
    "# SciPy – Python-based ecosystem of open-source software for mathematics, science, and engineering\n",
    "# https://www.scipy.org/\n",
    "from scipy.ndimage.interpolation import rotate"
   ]
  },
  {
   "cell_type": "markdown",
   "metadata": {},
   "source": [
    "## Load the Data\n",
    "\n",
    "Please specify the **entire file path and the file name**. Every time you want to analyze a new image, you have to load it here and then execute every step. You may want to copy the code or copy the whole notebook for different experimental runs. "
   ]
  },
  {
   "cell_type": "code",
   "execution_count": null,
   "metadata": {},
   "outputs": [],
   "source": [
    "file_folder = r\"//\" #directory to the folder where the images recorded by the camera are stored\n",
    "prefix = '' #please change the prefix name according to the run image name given by the camera software\n",
    "\n",
    "save_folder = r'//' #directory to the folder where you want to save the images. Make sure it exists!\n",
    "prefix_save = '' #prefix that is added to the saved images. Change it as you like it.\n",
    "\n",
    "numbers = [0,99] #first and last number of the image you want to load\n",
    "\n",
    "for i in range(numbers[0], numbers[1] + 1):\n",
    "    tmp = Image.open(file_folder + prefix + '%04d.tif'%i) \n",
    "    tmp = np.asarray(tmp.getdata(),dtype=np.float64).reshape((tmp.size[1],tmp.size[0]))\n",
    "    if i == 0:\n",
    "        holo_exp = tmp\n",
    "    else:\n",
    "        holo_exp += tmp\n",
    "\n",
    "#the FFT needs a quadratic image as input\n",
    "x,y = holo_exp.shape\n",
    "if x<y:\n",
    "    holo_exp = holo_exp[:, np.int((y-x)/2):-np.int((y-x)/2)]\n",
    "elif x>y:\n",
    "    holo_exp = holo_exp[np.int((x-y)/2):-np.int((x-y)/2),:]"
   ]
  },
  {
   "cell_type": "markdown",
   "metadata": {},
   "source": [
    "## Plot the image\n",
    "\n",
    "Plot the summed hologram.\n",
    "\n",
    "You can adjust the scale of the image by specifying the mininal (*vmin*) and maximal (*max*) displayed value. You can do this with choosing the percentiles inthe first cell but you can also type in any number you like."
   ]
  },
  {
   "cell_type": "code",
   "execution_count": null,
   "metadata": {},
   "outputs": [],
   "source": [
    "MinV, MaxV = np.percentile(holo_exp,(2.5, 97.5))\n",
    "\n",
    "fig, ax = plt.subplots()\n",
    "ax = plt.imshow(holo_exp, cmap='gray', vmin = MinV, vmax = MaxV)\n",
    "plt.colorbar()\n",
    "plt.title('Hologram')\n",
    "\n",
    "fig.tight_layout()"
   ]
  },
  {
   "cell_type": "markdown",
   "metadata": {},
   "source": [
    "## Fourier Transformation – Reconstruct"
   ]
  },
  {
   "cell_type": "code",
   "execution_count": 1,
   "metadata": {},
   "outputs": [
    {
     "ename": "NameError",
     "evalue": "name 'np' is not defined",
     "output_type": "error",
     "traceback": [
      "\u001b[0;31m---------------------------------------------------------------------------\u001b[0m",
      "\u001b[0;31mNameError\u001b[0m                                 Traceback (most recent call last)",
      "\u001b[0;32m<ipython-input-1-602eca4b2148>\u001b[0m in \u001b[0;36m<module>\u001b[0;34m\u001b[0m\n\u001b[0;32m----> 1\u001b[0;31m \u001b[0mrecon_exp\u001b[0m \u001b[0;34m=\u001b[0m \u001b[0mnp\u001b[0m\u001b[0;34m.\u001b[0m\u001b[0mabs\u001b[0m\u001b[0;34m(\u001b[0m\u001b[0mnp\u001b[0m\u001b[0;34m.\u001b[0m\u001b[0mfft\u001b[0m\u001b[0;34m.\u001b[0m\u001b[0mifftshift\u001b[0m\u001b[0;34m(\u001b[0m\u001b[0mnp\u001b[0m\u001b[0;34m.\u001b[0m\u001b[0mfft\u001b[0m\u001b[0;34m.\u001b[0m\u001b[0mifft2\u001b[0m\u001b[0;34m(\u001b[0m\u001b[0mnp\u001b[0m\u001b[0;34m.\u001b[0m\u001b[0mfft\u001b[0m\u001b[0;34m.\u001b[0m\u001b[0mfftshift\u001b[0m\u001b[0;34m(\u001b[0m\u001b[0mholo_exp\u001b[0m\u001b[0;34m)\u001b[0m\u001b[0;34m)\u001b[0m\u001b[0;34m)\u001b[0m\u001b[0;34m)\u001b[0m\u001b[0;34m\u001b[0m\u001b[0;34m\u001b[0m\u001b[0m\n\u001b[0m",
      "\u001b[0;31mNameError\u001b[0m: name 'np' is not defined"
     ]
    }
   ],
   "source": [
    "recon_exp = np.abs(np.fft.ifftshift(np.fft.ifft2(np.fft.fftshift(holo_exp))))"
   ]
  },
  {
   "cell_type": "markdown",
   "metadata": {},
   "source": [
    "## Plot the image\n",
    "\n",
    "As before...\n",
    "\n",
    "Remember that the autosaving uses `prefix`for generating the file name."
   ]
  },
  {
   "cell_type": "code",
   "execution_count": null,
   "metadata": {},
   "outputs": [],
   "source": [
    "MinV, MaxV = np.percentile(recon_exp,(1,99))\n",
    "\n",
    "fig, ax = plt.subplots()\n",
    "\n",
    "ax = plt.imshow(recon_exp, cmap = 'gray', vmin = MinV, vmax = MaxV)\n",
    "plt.colorbar()\n",
    "plt.title('Reconstruction')\n",
    "\n",
    "fig.tight_layout()\n",
    "\n",
    "#save image and data\n",
    "plt.savefig(save_folder + prefix_save + 'recon_exp.png')\n",
    "np.save(save_folder + prefix_save + 'recon_exp', recon_exp) #saves as numpy array. can be opened in another notebook with np.load('filepath')"
   ]
  },
  {
   "cell_type": "markdown",
   "metadata": {},
   "source": [
    "## Lineout\n",
    "\n",
    "Do reasonable intensity lineouts to determine the resolution using the 10%–90% criterion.\n",
    "\n",
    "You can determine the pixel positions by using the cursor over your image. You can also select an area of the image to enlarge it using the butten left of the floppy disc.\n",
    "\n",
    "If your reconstruction is not horizontally aligned, you need to rotate your image with the first cell."
   ]
  },
  {
   "cell_type": "code",
   "execution_count": null,
   "metadata": {},
   "outputs": [],
   "source": [
    "#rotate the image if it is not horizontally aligned\n",
    "rot = rotate(recon_exp, 0) #inut the image as numpy array and the angle in degree\n",
    "\n",
    "fig, ax = plt.subplots()\n",
    "ax.imshow(rot, cmap = 'gray')"
   ]
  },
  {
   "cell_type": "code",
   "execution_count": null,
   "metadata": {},
   "outputs": [],
   "source": [
    "def lineout(image, startX, endX, startY, endY, file_prefix):\n",
    "    lineout = np.sum(image[startY:endY, startX:endX], 0)\n",
    "    \n",
    "    #plot the lineout\n",
    "    fig, ax = plt.subplots()\n",
    "    ax = plt.plot(lineout)\n",
    "    plt.title(\"Lineout for resultion\")\n",
    "    plt.xlabel(\"Pixel\")\n",
    "    plt.ylabel(\"Intensity [a.u.]\")\n",
    "    \n",
    "    #save the lineout\n",
    "    np.savetxt(save_folder + file_prefix + 'lineout.txt', lineout)\n",
    "    return"
   ]
  },
  {
   "cell_type": "code",
   "execution_count": null,
   "metadata": {},
   "outputs": [],
   "source": [
    "#if you rotated you image, please put in the rotated image instead of \"image\"\n",
    "lineout(recon_exp, startX = , endX = , startY = , endY = , file_prefix= prefix_save + 'exp')"
   ]
  },
  {
   "cell_type": "code",
   "execution_count": null,
   "metadata": {},
   "outputs": [],
   "source": []
  }
 ],
 "metadata": {
  "kernelspec": {
   "display_name": "Python 3",
   "language": "python",
   "name": "python3"
  },
  "language_info": {
   "codemirror_mode": {
    "name": "ipython",
    "version": 3
   },
   "file_extension": ".py",
   "mimetype": "text/x-python",
   "name": "python",
   "nbconvert_exporter": "python",
   "pygments_lexer": "ipython3",
   "version": "3.7.8"
  },
  "toc": {
   "base_numbering": 1,
   "nav_menu": {},
   "number_sections": true,
   "sideBar": true,
   "skip_h1_title": false,
   "title_cell": "Table of Contents",
   "title_sidebar": "Contents",
   "toc_cell": false,
   "toc_position": {
    "height": "calc(100% - 180px)",
    "left": "10px",
    "top": "150px",
    "width": "165px"
   },
   "toc_section_display": true,
   "toc_window_display": true
  },
  "varInspector": {
   "cols": {
    "lenName": 16,
    "lenType": 16,
    "lenVar": 40
   },
   "kernels_config": {
    "python": {
     "delete_cmd_postfix": "",
     "delete_cmd_prefix": "del ",
     "library": "var_list.py",
     "varRefreshCmd": "print(var_dic_list())"
    },
    "r": {
     "delete_cmd_postfix": ") ",
     "delete_cmd_prefix": "rm(",
     "library": "var_list.r",
     "varRefreshCmd": "cat(var_dic_list()) "
    }
   },
   "oldHeight": 306.666666,
   "position": {
    "height": "40px",
    "left": "1556px",
    "right": "-6px",
    "top": "119px",
    "width": "370px"
   },
   "types_to_exclude": [
    "module",
    "function",
    "builtin_function_or_method",
    "instance",
    "_Feature"
   ],
   "varInspector_section_display": "none",
   "window_display": true
  }
 },
 "nbformat": 4,
 "nbformat_minor": 2
}
